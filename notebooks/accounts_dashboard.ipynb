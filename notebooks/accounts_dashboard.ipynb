{
 "cells": [
  {
   "cell_type": "code",
   "execution_count": null,
   "metadata": {},
   "outputs": [],
   "source": [
    "import pandas as pd\n",
    "import json\n",
    "from utils.query import query_account_creates"
   ]
  },
  {
   "cell_type": "code",
   "execution_count": null,
   "metadata": {},
   "outputs": [],
   "source": [
    "# Query and save data\n",
    "\n",
    "## account_creates\n",
    "account_creates_list = query_account_creates()\n",
    "last_query_block = account_creates_list[-1]['created_at_block']\n",
    "with open(f'data/account_creates_up_to_block_{last_query_block}.json', 'w') as f:\n",
    "    json.dump({\"account_creates\":account_creates_list}, f)\n",
    "\n",
    "## account_upgrades"
   ]
  },
  {
   "cell_type": "code",
   "execution_count": null,
   "metadata": {},
   "outputs": [],
   "source": [
    "pd.DataFrame(q)"
   ]
  }
 ],
 "metadata": {
  "kernelspec": {
   "display_name": "gvenv38",
   "language": "python",
   "name": "python3"
  },
  "language_info": {
   "codemirror_mode": {
    "name": "ipython",
    "version": 3
   },
   "file_extension": ".py",
   "mimetype": "text/x-python",
   "name": "python",
   "nbconvert_exporter": "python",
   "pygments_lexer": "ipython3",
   "version": "3.8.12"
  },
  "orig_nbformat": 4
 },
 "nbformat": 4,
 "nbformat_minor": 2
}
